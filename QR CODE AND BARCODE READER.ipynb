{
 "cells": [
  {
   "cell_type": "code",
   "execution_count": 1,
   "id": "fad18a35-129c-4c67-a2bf-60cdd36c9adb",
   "metadata": {},
   "outputs": [
    {
     "name": "stdout",
     "output_type": "stream",
     "text": [
      "Requirement already satisfied: opencv-python in c:\\users\\lohit\\anaconda3\\lib\\site-packages (4.10.0.84)\n",
      "Requirement already satisfied: pyzbar in c:\\users\\lohit\\anaconda3\\lib\\site-packages (0.1.9)\n",
      "Requirement already satisfied: numpy>=1.21.2 in c:\\users\\lohit\\anaconda3\\lib\\site-packages (from opencv-python) (1.26.4)\n",
      "Note: you may need to restart the kernel to use updated packages.\n"
     ]
    }
   ],
   "source": [
    "pip install opencv-python pyzbar\n"
   ]
  },
  {
   "cell_type": "code",
   "execution_count": null,
   "id": "d56158ab-48ca-401b-a759-f9ef07c2585c",
   "metadata": {},
   "outputs": [
    {
     "name": "stdout",
     "output_type": "stream",
     "text": [
      "Starting camera. Press 'q' to quit.\n"
     ]
    }
   ],
   "source": [
    "import cv2\n",
    "from pyzbar.pyzbar import decode\n",
    "\n",
    "\n",
    "cap = cv2.VideoCapture(0)\n",
    "\n",
    "print(\"Starting camera. Press 'q' to quit.\")\n",
    "\n",
    "while True:\n",
    "    success, frame = cap.read()\n",
    "    if not success:\n",
    "        break\n",
    "\n",
    "    \n",
    "    for code in decode(frame):\n",
    "        data = code.data.decode('utf-8')\n",
    "        type_ = code.type\n",
    "        points = code.polygon\n",
    "\n",
    "        \n",
    "        pts = [(p.x, p.y) for p in points]\n",
    "        pts.append(pts[0])\n",
    "        for i in range(len(pts)-1):\n",
    "            cv2.line(frame, pts[i], pts[i+1], (0, 255, 0), 2)\n",
    "\n",
    "    \n",
    "        cv2.putText(frame, f'{type_}: {data}', (pts[0][0], pts[0][1] - 10),\n",
    "                    cv2.FONT_HERSHEY_SIMPLEX, 0.6, (255, 0, 0), 2)\n",
    "\n",
    "        print(f'Detected {type_}: {data}')\n",
    "\n",
    "    cv2.imshow('Barcode/QR Code Scanner', frame)\n",
    "\n",
    "    \n",
    "    if cv2.waitKey(1) & 0xFF == ord('q'):\n",
    "        break\n",
    "\n",
    "cap.release()\n",
    "cv2.destroyAllWindows()\n"
   ]
  },
  {
   "cell_type": "code",
   "execution_count": null,
   "id": "3b4881c1-54e4-4012-ab30-4decfc7b47d7",
   "metadata": {},
   "outputs": [],
   "source": []
  }
 ],
 "metadata": {
  "kernelspec": {
   "display_name": "Python 3 (ipykernel)",
   "language": "python",
   "name": "python3"
  },
  "language_info": {
   "codemirror_mode": {
    "name": "ipython",
    "version": 3
   },
   "file_extension": ".py",
   "mimetype": "text/x-python",
   "name": "python",
   "nbconvert_exporter": "python",
   "pygments_lexer": "ipython3",
   "version": "3.12.4"
  }
 },
 "nbformat": 4,
 "nbformat_minor": 5
}
